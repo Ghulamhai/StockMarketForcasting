{
 "cells": [
  {
   "cell_type": "code",
   "execution_count": 1,
   "metadata": {},
   "outputs": [
    {
     "name": "stdout",
     "output_type": "stream",
     "text": [
      "Collecting flask_sqlalchemy\n",
      "  Downloading Flask_SQLAlchemy-3.0.3-py3-none-any.whl (24 kB)\n",
      "Requirement already satisfied: Flask>=2.2 in c:\\users\\legion\\appdata\\local\\programs\\python\\python310\\lib\\site-packages (from flask_sqlalchemy) (2.2.3)\n",
      "Requirement already satisfied: SQLAlchemy>=1.4.18 in c:\\users\\legion\\appdata\\local\\programs\\python\\python310\\lib\\site-packages (from flask_sqlalchemy) (2.0.15)\n",
      "Requirement already satisfied: click>=8.0 in c:\\users\\legion\\appdata\\local\\programs\\python\\python310\\lib\\site-packages (from Flask>=2.2->flask_sqlalchemy) (8.1.3)\n",
      "Requirement already satisfied: Werkzeug>=2.2.2 in c:\\users\\legion\\appdata\\local\\programs\\python\\python310\\lib\\site-packages (from Flask>=2.2->flask_sqlalchemy) (2.2.3)\n",
      "Requirement already satisfied: Jinja2>=3.0 in c:\\users\\legion\\appdata\\local\\programs\\python\\python310\\lib\\site-packages (from Flask>=2.2->flask_sqlalchemy) (3.1.2)\n",
      "Requirement already satisfied: itsdangerous>=2.0 in c:\\users\\legion\\appdata\\local\\programs\\python\\python310\\lib\\site-packages (from Flask>=2.2->flask_sqlalchemy) (2.1.2)\n",
      "Requirement already satisfied: greenlet!=0.4.17 in c:\\users\\legion\\appdata\\local\\programs\\python\\python310\\lib\\site-packages (from SQLAlchemy>=1.4.18->flask_sqlalchemy) (2.0.2)\n",
      "Requirement already satisfied: typing-extensions>=4.2.0 in c:\\users\\legion\\appdata\\local\\programs\\python\\python310\\lib\\site-packages (from SQLAlchemy>=1.4.18->flask_sqlalchemy) (4.5.0)\n",
      "Requirement already satisfied: colorama in c:\\users\\legion\\appdata\\local\\programs\\python\\python310\\lib\\site-packages (from click>=8.0->Flask>=2.2->flask_sqlalchemy) (0.4.4)\n",
      "Requirement already satisfied: MarkupSafe>=2.0 in c:\\users\\legion\\appdata\\local\\programs\\python\\python310\\lib\\site-packages (from Jinja2>=3.0->Flask>=2.2->flask_sqlalchemy) (2.1.2)\n",
      "Installing collected packages: flask_sqlalchemy\n",
      "Successfully installed flask_sqlalchemy-3.0.3\n",
      "Note: you may need to restart the kernel to use updated packages.\n"
     ]
    },
    {
     "name": "stderr",
     "output_type": "stream",
     "text": [
      "\n",
      "[notice] A new release of pip is available: 23.0.1 -> 23.1.2\n",
      "[notice] To update, run: python.exe -m pip install --upgrade pip\n"
     ]
    }
   ],
   "source": [
    "pip install flask_sqlalchemy"
   ]
  }
 ],
 "metadata": {
  "kernelspec": {
   "display_name": "Python 3",
   "language": "python",
   "name": "python3"
  },
  "language_info": {
   "codemirror_mode": {
    "name": "ipython",
    "version": 3
   },
   "file_extension": ".py",
   "mimetype": "text/x-python",
   "name": "python",
   "nbconvert_exporter": "python",
   "pygments_lexer": "ipython3",
   "version": "3.10.11"
  },
  "orig_nbformat": 4
 },
 "nbformat": 4,
 "nbformat_minor": 2
}
